{
 "cells": [
  {
   "cell_type": "code",
   "execution_count": 2,
   "metadata": {
    "collapsed": true
   },
   "outputs": [],
   "source": [
    "import pandas as pd\n",
    "import datetime as dt\n",
    "import matplotlib.pyplot as plt\n",
    "import base64\n",
    "import csv\n",
    "import os\n",
    "import seaborn as sns\n",
    "import numpy as np\n",
    "from glob import glob\n",
    "from shutil import copyfile\n",
    "\n",
    "%matplotlib inline\n",
    "\n",
    "pd.set_option('display.max_columns', 100)"
   ]
  },
  {
   "cell_type": "code",
   "execution_count": 3,
   "metadata": {
    "collapsed": false
   },
   "outputs": [],
   "source": [
    "df = pd.read_csv('dataset/recipes_df10-23-2017.csv', error_bad_lines=False, encoding='utf-8', sep = '\\t')"
   ]
  },
  {
   "cell_type": "code",
   "execution_count": 4,
   "metadata": {
    "collapsed": false
   },
   "outputs": [
    {
     "data": {
      "text/plain": [
       "(308562, 425)"
      ]
     },
     "execution_count": 4,
     "metadata": {},
     "output_type": "execute_result"
    }
   ],
   "source": [
    "len(set(df.recipe_id))\n",
    "df.shape"
   ]
  },
  {
   "cell_type": "code",
   "execution_count": 5,
   "metadata": {
    "collapsed": false
   },
   "outputs": [],
   "source": [
    "df = df.dropna(axis=0, how='any')\n",
    "df = df.drop_duplicates(subset = 'recipe_id')\n",
    "# query recipes that were added less than 1 month\n",
    "df = df.query('date_x < \"2017-09-02\"')"
   ]
  },
  {
   "cell_type": "code",
   "execution_count": 6,
   "metadata": {
    "collapsed": true
   },
   "outputs": [],
   "source": [
    "df.columns = [c.replace(' ', '_') for c in df.columns]"
   ]
  },
  {
   "cell_type": "code",
   "execution_count": 282,
   "metadata": {
    "collapsed": true
   },
   "outputs": [],
   "source": [
    "df['printed_total'] = np.exp(df['printed_per_day'])*df['days_exists']\n",
    "df['printed_daily'] = df['printed_total']/df['days_exists']\n",
    "df['log_printed_per_day'] = df['printed_per_day']"
   ]
  },
  {
   "cell_type": "code",
   "execution_count": 7,
   "metadata": {
    "collapsed": false
   },
   "outputs": [],
   "source": [
    "ing_cols = [col for col in df.columns if '_ing' in col]\n",
    "tag_cols = [col for col in df.columns if '_tag' in col]\n",
    "all_cols = df.columns.values.tolist()\n",
    "rest_cols = set(all_cols) - set(ing_cols) - set(tag_cols)\n",
    "#rest_cols"
   ]
  },
  {
   "cell_type": "code",
   "execution_count": 8,
   "metadata": {
    "collapsed": false
   },
   "outputs": [],
   "source": [
    "df_with_pics = df[df.has_picture == 'yes'].copy()"
   ]
  },
  {
   "cell_type": "code",
   "execution_count": 9,
   "metadata": {
    "collapsed": true
   },
   "outputs": [],
   "source": [
    "id_v = 'recipe_id'\n",
    "dv   = 'printed_per_day'"
   ]
  },
  {
   "cell_type": "code",
   "execution_count": 10,
   "metadata": {
    "collapsed": false
   },
   "outputs": [
    {
     "data": {
      "text/html": [
       "<div>\n",
       "<table border=\"1\" class=\"dataframe\">\n",
       "  <thead>\n",
       "    <tr style=\"text-align: right;\">\n",
       "      <th></th>\n",
       "      <th>recipe_id</th>\n",
       "      <th>printed_per_day</th>\n",
       "    </tr>\n",
       "  </thead>\n",
       "  <tbody>\n",
       "    <tr>\n",
       "      <th>2</th>\n",
       "      <td>recipe-3333651495007708</td>\n",
       "      <td>-1.533930</td>\n",
       "    </tr>\n",
       "    <tr>\n",
       "      <th>5</th>\n",
       "      <td>recipe-3333561494972170</td>\n",
       "      <td>-1.698233</td>\n",
       "    </tr>\n",
       "    <tr>\n",
       "      <th>11</th>\n",
       "      <td>recipe-3321081493152882</td>\n",
       "      <td>-1.159237</td>\n",
       "    </tr>\n",
       "    <tr>\n",
       "      <th>17</th>\n",
       "      <td>recipe-3205721477169720</td>\n",
       "      <td>-1.889821</td>\n",
       "    </tr>\n",
       "    <tr>\n",
       "      <th>19</th>\n",
       "      <td>recipe-3336321495482842</td>\n",
       "      <td>-0.739978</td>\n",
       "    </tr>\n",
       "  </tbody>\n",
       "</table>\n",
       "</div>"
      ],
      "text/plain": [
       "                  recipe_id  printed_per_day\n",
       "2   recipe-3333651495007708        -1.533930\n",
       "5   recipe-3333561494972170        -1.698233\n",
       "11  recipe-3321081493152882        -1.159237\n",
       "17  recipe-3205721477169720        -1.889821\n",
       "19  recipe-3336321495482842        -0.739978"
      ]
     },
     "execution_count": 10,
     "metadata": {},
     "output_type": "execute_result"
    }
   ],
   "source": [
    "df_with_pics[[id_v, dv]].head()"
   ]
  },
  {
   "cell_type": "code",
   "execution_count": 11,
   "metadata": {
    "collapsed": false
   },
   "outputs": [],
   "source": [
    "df_with_pics = df_with_pics.drop_duplicates(subset=[id_v, dv])"
   ]
  },
  {
   "cell_type": "code",
   "execution_count": 12,
   "metadata": {
    "collapsed": false
   },
   "outputs": [
    {
     "name": "stdout",
     "output_type": "stream",
     "text": [
      "182231\n",
      "182231\n"
     ]
    }
   ],
   "source": [
    "print(len(df_with_pics.recipe_id))\n",
    "print(len(set(df_with_pics.recipe_id)))"
   ]
  },
  {
   "cell_type": "code",
   "execution_count": 13,
   "metadata": {
    "collapsed": false
   },
   "outputs": [
    {
     "data": {
      "text/plain": [
       "<matplotlib.axes._subplots.AxesSubplot at 0x1bd20c6a4e0>"
      ]
     },
     "execution_count": 13,
     "metadata": {},
     "output_type": "execute_result"
    },
    {
     "data": {
      "image/png": "[encoded data removed]",
      "text/plain": [
       "<matplotlib.figure.Figure at 0x1bd147d1fd0>"
      ]
     },
     "metadata": {},
     "output_type": "display_data"
    }
   ],
   "source": [
    "df_with_pics[dv].plot.hist()"
   ]
  },
  {
   "cell_type": "code",
   "execution_count": 16,
   "metadata": {
    "collapsed": false
   },
   "outputs": [
    {
     "data": {
      "text/plain": [
       "2     False\n",
       "5     False\n",
       "11    False\n",
       "17    False\n",
       "19     True\n",
       "Name: label, dtype: object"
      ]
     },
     "execution_count": 16,
     "metadata": {},
     "output_type": "execute_result"
    }
   ],
   "source": [
    "df_with_pics['label'] = (df_with_pics[dv] >= df_with_pics[dv].quantile(q=0.5)).astype(str)\n",
    "df_with_pics['label'].head()"
   ]
  },
  {
   "cell_type": "code",
   "execution_count": 14,
   "metadata": {
    "collapsed": false
   },
   "outputs": [
    {
     "data": {
      "text/plain": [
       "0.17522724870774797"
      ]
     },
     "execution_count": 14,
     "metadata": {},
     "output_type": "execute_result"
    }
   ],
   "source": [
    "np.exp(df[dv].quantile(q=0.5))"
   ]
  },
  {
   "cell_type": "code",
   "execution_count": 15,
   "metadata": {
    "collapsed": false
   },
   "outputs": [
    {
     "data": {
      "text/plain": [
       "0.31863354037267089"
      ]
     },
     "execution_count": 15,
     "metadata": {},
     "output_type": "execute_result"
    }
   ],
   "source": [
    "np.exp(df_with_pics[dv].quantile(q=0.5))"
   ]
  },
  {
   "cell_type": "markdown",
   "metadata": {},
   "source": [
    "# Save pictures into folders with category in their names"
   ]
  },
  {
   "cell_type": "code",
   "execution_count": 48,
   "metadata": {
    "collapsed": true
   },
   "outputs": [],
   "source": [
    "#current_dir = os.getcwd()\n",
    "#PROJECT_DIR = 'C:\\\\Users\\\\Natalia\\\\Documents\\\\GitHub\\\\Extracting-food-preferences'\n",
    "PROJECT_DIR  = 'C:\\\\Users\\\\Natalia\\\\Documents\\\\GitHub\\\\Extracting-food-preferences'\n",
    "PICTURES_DIR = 'C:\\\\Users\\\\Natalia\\\\Documents\\\\GitHub\\\\search_pics'"
   ]
  },
  {
   "cell_type": "code",
   "execution_count": 22,
   "metadata": {
    "collapsed": false
   },
   "outputs": [
    {
     "name": "stdout",
     "output_type": "stream",
     "text": [
      "C:\\Users\\Natalia\\Documents\\GitHub\\Extracting-food-preferences\n"
     ]
    }
   ],
   "source": [
    "%cd $PROJECT_DIR\n",
    "%mkdir classification_with_pics2\n",
    "%mkdir classification_with_pics2\\train\n",
    "%mkdir classification_with_pics2\\valid\n",
    "%mkdir classification_with_pics2\\sample\n",
    "%mkdir classification_with_pics2\\results\n",
    "%mkdir classification_with_pics2\\sample\\train\n",
    "%mkdir classification_with_pics2\\sample\\valid\n",
    "%mkdir classification_with_pics2\\sample\\results"
   ]
  },
  {
   "cell_type": "code",
   "execution_count": 23,
   "metadata": {
    "collapsed": false
   },
   "outputs": [
    {
     "name": "stdout",
     "output_type": "stream",
     "text": [
      "C:\\Users\\Natalia\\Documents\\GitHub\\search_pics\n"
     ]
    }
   ],
   "source": [
    "# Set pics folder as a working diretory\n",
    "%cd $PICTURES_DIR"
   ]
  },
  {
   "cell_type": "code",
   "execution_count": 25,
   "metadata": {
    "collapsed": false
   },
   "outputs": [
    {
     "data": {
      "text/plain": [
       "['recipe-12972895612.jpg',\n",
       " 'recipe-13972907778.jpg',\n",
       " 'recipe-14972908306.jpg',\n",
       " 'recipe-15972985893.jpg',\n",
       " 'recipe-19972999410.jpg']"
      ]
     },
     "execution_count": 25,
     "metadata": {},
     "output_type": "execute_result"
    }
   ],
   "source": [
    "g = glob('*.jpg')\n",
    "g[:5]"
   ]
  },
  {
   "cell_type": "code",
   "execution_count": 34,
   "metadata": {
    "collapsed": false
   },
   "outputs": [],
   "source": [
    "# made a renamed copy of pictures\n",
    "# remove images without labels\n",
    "nl = (set(g) - set(df_with_pics[id_v]+'.jpg'))\n",
    "g = list(set(g) - set(nl))\n",
    "for i in range(len(g)): copyfile(g[i], \n",
    "                                 PROJECT_DIR\n",
    "                                 + \"\\\\classification_with_pics2\\\\train\\\\\" \n",
    "                                 + df_with_pics[df_with_pics[id_v]+'.jpg' == g[i]].label.item() + '.' + g[i])"
   ]
  },
  {
   "cell_type": "code",
   "execution_count": 29,
   "metadata": {
    "collapsed": false
   },
   "outputs": [
    {
     "data": {
      "text/plain": [
       "'False.recipe-35974791166.jpg'"
      ]
     },
     "execution_count": 29,
     "metadata": {},
     "output_type": "execute_result"
    }
   ],
   "source": [
    "df_with_pics[df_with_pics[id_v]+'.jpg' == g[1]].label.item() + '.' + g[1]"
   ]
  },
  {
   "cell_type": "code",
   "execution_count": 35,
   "metadata": {
    "collapsed": false
   },
   "outputs": [
    {
     "name": "stdout",
     "output_type": "stream",
     "text": [
      "C:\\Users\\Natalia\\Documents\\GitHub\\Extracting-food-preferences\\classification_with_pics2\\train\n"
     ]
    }
   ],
   "source": [
    "# Set train data folder as a working diretory\n",
    "%cd $PROJECT_DIR\\classification_with_pics2\\train\\"
   ]
  },
  {
   "cell_type": "code",
   "execution_count": 36,
   "metadata": {
    "collapsed": false
   },
   "outputs": [],
   "source": [
    "# move 30k pictures from training set to validation set\n",
    "g = glob('*.jpg')\n",
    "shuf = np.random.permutation(g)\n",
    "#for i in range(30000): os.rename(shuf[i]\n",
    "for i in range(4): os.rename(shuf[i], \n",
    "                             PROJECT_DIR\n",
    "                             + \"\\\\classification_with_pics2\\\\valid\\\\\"\n",
    "                             + shuf[i])"
   ]
  },
  {
   "cell_type": "code",
   "execution_count": 37,
   "metadata": {
    "collapsed": true
   },
   "outputs": [],
   "source": [
    "# copy 200 images to sample set for experimentation\n",
    "g = glob('*.jpg')\n",
    "shuf = np.random.permutation(g)\n",
    "#for i in range(200): copyfile(shuf[i], \n",
    "for i in range(5): copyfile(shuf[i],\n",
    "                            PROJECT_DIR\n",
    "                            +'\\\\classification_with_pics2\\\\sample\\\\train\\\\'\n",
    "                            + shuf[i])"
   ]
  },
  {
   "cell_type": "code",
   "execution_count": 38,
   "metadata": {
    "collapsed": false
   },
   "outputs": [
    {
     "name": "stdout",
     "output_type": "stream",
     "text": [
      "C:\\Users\\Natalia\\Documents\\GitHub\\Extracting-food-preferences\\classification_with_pics2\\valid\n"
     ]
    }
   ],
   "source": [
    "# Set validation data folder as a working diretory\n",
    "%cd $PROJECT_DIR\\classification_with_pics2\\valid\\"
   ]
  },
  {
   "cell_type": "code",
   "execution_count": 39,
   "metadata": {
    "collapsed": true
   },
   "outputs": [],
   "source": [
    "# copy 50 images from validation set to sample validation\n",
    "g = glob('*.jpg')\n",
    "shuf = np.random.permutation(g)\n",
    "#for i in range(50): copyfile(shuf[i], \n",
    "for i in range(2): copyfile(shuf[i], \n",
    "                            PROJECT_DIR\n",
    "                            +'\\\\classification_with_pics2\\\\sample\\\\valid\\\\' \n",
    "                            + shuf[i])"
   ]
  },
  {
   "cell_type": "markdown",
   "metadata": {},
   "source": [
    "# Rearrange image files into their respective directories"
   ]
  },
  {
   "cell_type": "code",
   "execution_count": 41,
   "metadata": {
    "collapsed": true
   },
   "outputs": [],
   "source": [
    "CLASSIFICATION_DIR = PROJECT_DIR +'\\\\classification_with_pics2'"
   ]
  },
  {
   "cell_type": "code",
   "execution_count": 42,
   "metadata": {
    "collapsed": true
   },
   "outputs": [
    {
     "name": "stdout",
     "output_type": "stream",
     "text": [
      "C:\\Users\\Natalia\\Documents\\GitHub\\Extracting-food-preferences\\classification_with_pics2\\sample\\train\n",
      "C:\\Users\\Natalia\\Documents\\GitHub\\Extracting-food-preferences\\classification_with_pics2\\sample\\train\\True.recipe-23973004603.jpg\n",
      "C:\\Users\\Natalia\\Documents\\GitHub\\Extracting-food-preferences\\classification_with_pics2\\sample\\train\\True.recipe-30974460077.jpg\n",
      "        2 file(s) moved.\n",
      "C:\\Users\\Natalia\\Documents\\GitHub\\Extracting-food-preferences\\classification_with_pics2\\sample\\train\\False.recipe-12972895612.jpg\n",
      "C:\\Users\\Natalia\\Documents\\GitHub\\Extracting-food-preferences\\classification_with_pics2\\sample\\train\\False.recipe-35974791166.jpg\n",
      "C:\\Users\\Natalia\\Documents\\GitHub\\Extracting-food-preferences\\classification_with_pics2\\sample\\train\\False.recipe-36974792563.jpg\n",
      "        3 file(s) moved.\n",
      "C:\\Users\\Natalia\\Documents\\GitHub\\Extracting-food-preferences\\classification_with_pics2\\sample\\valid\n",
      "C:\\Users\\Natalia\\Documents\\GitHub\\Extracting-food-preferences\\classification_with_pics2\\sample\\valid\\True.recipe-27973607468.jpg\n",
      "C:\\Users\\Natalia\\Documents\\GitHub\\Extracting-food-preferences\\classification_with_pics2\\sample\\valid\\True.recipe-32974461094.jpg\n",
      "        2 file(s) moved.\n",
      "C:\\Users\\Natalia\\Documents\\GitHub\\Extracting-food-preferences\\classification_with_pics2\\valid\n"
     ]
    },
    {
     "name": "stderr",
     "output_type": "stream",
     "text": [
      "A duplicate file name exists, or the file\n",
      "cannot be found.\n"
     ]
    },
    {
     "name": "stdout",
     "output_type": "stream",
     "text": [
      "C:\\Users\\Natalia\\Documents\\GitHub\\Extracting-food-preferences\\classification_with_pics2\\valid\\True.recipe-27973607468.jpg\n",
      "C:\\Users\\Natalia\\Documents\\GitHub\\Extracting-food-preferences\\classification_with_pics2\\valid\\True.recipe-32974461094.jpg\n",
      "C:\\Users\\Natalia\\Documents\\GitHub\\Extracting-food-preferences\\classification_with_pics2\\valid\\True.recipe-37974793352.jpg\n",
      "        3 file(s) moved.\n",
      "C:\\Users\\Natalia\\Documents\\GitHub\\Extracting-food-preferences\\classification_with_pics2\\valid\\False.recipe-7971878818.jpg\n",
      "        1 file(s) moved.\n",
      "C:\\Users\\Natalia\\Documents\\GitHub\\Extracting-food-preferences\\classification_with_pics2\\train\n",
      "C:\\Users\\Natalia\\Documents\\GitHub\\Extracting-food-preferences\\classification_with_pics2\\train\\True.recipe-13972907778.jpg\n",
      "C:\\Users\\Natalia\\Documents\\GitHub\\Extracting-food-preferences\\classification_with_pics2\\train\\True.recipe-19972999410.jpg\n",
      "C:\\Users\\Natalia\\Documents\\GitHub\\Extracting-food-preferences\\classification_with_pics2\\train\\True.recipe-20973000461.jpg\n",
      "C:\\Users\\Natalia\\Documents\\GitHub\\Extracting-food-preferences\\classification_with_pics2\\train\\True.recipe-23973004603.jpg\n",
      "C:\\Users\\Natalia\\Documents\\GitHub\\Extracting-food-preferences\\classification_with_pics2\\train\\True.recipe-28974106789.jpg\n",
      "C:\\Users\\Natalia\\Documents\\GitHub\\Extracting-food-preferences\\classification_with_pics2\\train\\True.recipe-30974460077.jpg\n",
      "C:\\Users\\Natalia\\Documents\\GitHub\\Extracting-food-preferences\\classification_with_pics2\\train\\True.recipe-34974726152.jpg\n",
      "C:\\Users\\Natalia\\Documents\\GitHub\\Extracting-food-preferences\\classification_with_pics2\\train\\True.recipe-6971800010.jpg\n",
      "        8 file(s) moved.\n",
      "C:\\Users\\Natalia\\Documents\\GitHub\\Extracting-food-preferences\\classification_with_pics2\\train\\False.recipe-12972895612.jpg\n",
      "C:\\Users\\Natalia\\Documents\\GitHub\\Extracting-food-preferences\\classification_with_pics2\\train\\False.recipe-14972908306.jpg\n",
      "C:\\Users\\Natalia\\Documents\\GitHub\\Extracting-food-preferences\\classification_with_pics2\\train\\False.recipe-15972985893.jpg\n",
      "C:\\Users\\Natalia\\Documents\\GitHub\\Extracting-food-preferences\\classification_with_pics2\\train\\False.recipe-31974460691.jpg\n",
      "C:\\Users\\Natalia\\Documents\\GitHub\\Extracting-food-preferences\\classification_with_pics2\\train\\False.recipe-35974791166.jpg\n",
      "C:\\Users\\Natalia\\Documents\\GitHub\\Extracting-food-preferences\\classification_with_pics2\\train\\False.recipe-36974792563.jpg\n",
      "        6 file(s) moved.\n"
     ]
    }
   ],
   "source": [
    "#Divide cat/dog images into separate directories\n",
    "%cd $CLASSIFICATION_DIR/sample/train\n",
    "%mkdir popular\n",
    "%mkdir unpopular\n",
    "!move True.*.jpg popular/\n",
    "!move False.*.jpg unpopular/\n",
    "\n",
    "%cd $CLASSIFICATION_DIR/sample/valid\n",
    "%mkdir popular\n",
    "%mkdir unpopular\n",
    "!move True.*.jpg popular/\n",
    "!move False.*.jpg unpopular/\n",
    "\n",
    "%cd $CLASSIFICATION_DIR/valid\n",
    "%mkdir popular\n",
    "%mkdir unpopular\n",
    "!move True.*.jpg popular/\n",
    "!move False.*.jpg unpopular/\n",
    "\n",
    "%cd $CLASSIFICATION_DIR/train\n",
    "%mkdir popular\n",
    "%mkdir unpopular\n",
    "!move True.*.jpg popular/\n",
    "!move False.*.jpg unpopular/"
   ]
  },
  {
   "cell_type": "markdown",
   "metadata": {
    "collapsed": true
   },
   "source": [
    "# Finetune the VGG"
   ]
  },
  {
   "cell_type": "code",
   "execution_count": 46,
   "metadata": {
    "collapsed": false
   },
   "outputs": [
    {
     "data": {
      "text/plain": [
       "'C:\\\\Users\\\\Natalia\\\\Documents\\\\GitHub\\\\Extracting-food-preferences\\\\classification_with_pics2\\\\train'"
      ]
     },
     "execution_count": 46,
     "metadata": {},
     "output_type": "execute_result"
    }
   ],
   "source": [
    "os.getcwd()"
   ]
  },
  {
   "cell_type": "code",
   "execution_count": 50,
   "metadata": {
    "collapsed": false
   },
   "outputs": [
    {
     "name": "stdout",
     "output_type": "stream",
     "text": [
      "C:\\Users\\Natalia\\Documents\\GitHub\\Extracting-food-preferences\n"
     ]
    }
   ],
   "source": [
    "%cd $PROJECT_DIR"
   ]
  },
  {
   "cell_type": "code",
   "execution_count": 51,
   "metadata": {
    "collapsed": false
   },
   "outputs": [
    {
     "name": "stderr",
     "output_type": "stream",
     "text": [
      "Using Theano backend.\n"
     ]
    }
   ],
   "source": [
    "#import modules\n",
    "from utils import *\n",
    "from vgg16 import Vgg16\n",
    "from datetime import datetime\n",
    "\n",
    "#Instantiate plotting tool\n",
    "#In Jupyter notebooks, you will need to run this command before doing any plotting\n",
    "%matplotlib inline"
   ]
  },
  {
   "cell_type": "code",
   "execution_count": 52,
   "metadata": {
    "collapsed": true
   },
   "outputs": [],
   "source": [
    "#current_dir = os.getcwd()\n",
    "PROJECT_DIR = 'C:\\\\Users\\\\Natalia\\\\Documents\\\\GitHub\\\\Extracting-food-preferences'\n",
    "CLASSIFICATION_DIR = PROJECT_DIR +'\\\\classification_with_pics2'"
   ]
  },
  {
   "cell_type": "code",
   "execution_count": 53,
   "metadata": {
    "collapsed": false
   },
   "outputs": [
    {
     "name": "stdout",
     "output_type": "stream",
     "text": [
      "C:\\Users\\Natalia\\Documents\\GitHub\\Extracting-food-preferences\\classification_with_pics2\n"
     ]
    }
   ],
   "source": [
    "%cd $CLASSIFICATION_DIR\n",
    "\n",
    "#Set path to sample/ path if desired\n",
    "path = CLASSIFICATION_DIR + '\\\\sample'\n",
    "#path = CLASSIFICATION_DIR + '\\\\' + 'sample\\\\'\n",
    "results_path=path + '\\\\results\\\\'\n",
    "train_path=path + '\\\\train\\\\'\n",
    "valid_path=path + '\\\\valid\\\\'"
   ]
  },
  {
   "cell_type": "code",
   "execution_count": 54,
   "metadata": {
    "collapsed": false
   },
   "outputs": [],
   "source": [
    "#import Vgg16 helper class\n",
    "vgg = Vgg16()"
   ]
  },
  {
   "cell_type": "code",
   "execution_count": 60,
   "metadata": {
    "collapsed": true
   },
   "outputs": [],
   "source": [
    "#Set constants. You can experiment with no_of_epochs to improve the model\n",
    "batch_size=50\n",
    "no_of_epochs=5"
   ]
  },
  {
   "cell_type": "code",
   "execution_count": 61,
   "metadata": {
    "collapsed": false
   },
   "outputs": [
    {
     "name": "stdout",
     "output_type": "stream",
     "text": [
      "Found 5 images belonging to 2 classes.\n",
      "Found 2 images belonging to 2 classes.\n"
     ]
    }
   ],
   "source": [
    "#Finetune the model\n",
    "batches = vgg.get_batches(train_path, batch_size=batch_size)\n",
    "val_batches = vgg.get_batches(valid_path, batch_size=batch_size*2)\n",
    "vgg.finetune(batches)\n",
    "\n",
    "#Not sure if we set this for all fits\n",
    "vgg.model.optimizer.lr = 0.01"
   ]
  },
  {
   "cell_type": "code",
   "execution_count": 62,
   "metadata": {
    "collapsed": false
   },
   "outputs": [
    {
     "name": "stdout",
     "output_type": "stream",
     "text": [
      "Running epoch: 0\n",
      "Epoch 1/1\n",
      "5/5 [==============================] - 4s - loss: 1.4670 - acc: 0.6000 - val_loss: 6.7043 - val_acc: 0.0000e+00\n",
      "Running epoch: 1\n",
      "Epoch 1/1\n",
      "5/5 [==============================] - 4s - loss: 0.4488 - acc: 0.6000 - val_loss: 4.1174 - val_acc: 0.5000\n",
      "Running epoch: 2\n",
      "Epoch 1/1\n",
      "5/5 [==============================] - 4s - loss: 8.8492e-04 - acc: 1.0000 - val_loss: 3.2224 - val_acc: 0.5000\n",
      "Running epoch: 3\n",
      "Epoch 1/1\n",
      "5/5 [==============================] - 3s - loss: 4.3636e-04 - acc: 1.0000 - val_loss: 2.6548 - val_acc: 0.5000\n",
      "Running epoch: 4\n",
      "Epoch 1/1\n",
      "5/5 [==============================] - 4s - loss: 0.0015 - acc: 1.0000 - val_loss: 2.4064 - val_acc: 0.5000\n",
      "Completed 5 fit operations\n",
      "Time to run the script on CPU is 0:00:38.567853\n"
     ]
    }
   ],
   "source": [
    "start = datetime.now()\n",
    "#Notice we are passing in the validation dataset to the fit() method\n",
    "#For each epoch we test our model against the validation set\n",
    "latest_weights_filename = None\n",
    "for epoch in range(no_of_epochs):\n",
    "    print(\"Running epoch: {}\".format(epoch))\n",
    "    vgg.fit(batches, val_batches, nb_epoch=1)\n",
    "    latest_weights_filename = 'ft{}.h5'.format(epoch)\n",
    "    vgg.model.save_weights(results_path+latest_weights_filename)\n",
    "print(\"Completed {} fit operations\".format(no_of_epochs))\n",
    "end = datetime.now()\n",
    "total = end - start\n",
    "print('Time to run the script on CPU is {}'.format(total))"
   ]
  },
  {
   "cell_type": "code",
   "execution_count": null,
   "metadata": {
    "collapsed": true
   },
   "outputs": [],
   "source": []
  }
 ],
 "metadata": {
  "kernelspec": {
   "display_name": "Python 3",
   "language": "python",
   "name": "python3"
  },
  "language_info": {
   "codemirror_mode": {
    "name": "ipython",
    "version": 3
   },
   "file_extension": ".py",
   "mimetype": "text/x-python",
   "name": "python",
   "nbconvert_exporter": "python",
   "pygments_lexer": "ipython3",
   "version": "3.5.3"
  }
 },
 "nbformat": 4,
 "nbformat_minor": 0
}
