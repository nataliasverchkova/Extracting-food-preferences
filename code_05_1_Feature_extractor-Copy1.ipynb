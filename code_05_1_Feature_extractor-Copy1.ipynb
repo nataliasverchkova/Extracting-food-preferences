{
 "cells": [
  {
   "cell_type": "code",
   "execution_count": 45,
   "metadata": {
    "collapsed": false
   },
   "outputs": [],
   "source": [
    "import os, keras\n",
    "\n",
    "from keras.applications.vgg16 import VGG16\n",
    "from keras.preprocessing import image\n",
    "from keras.models import Sequential\n",
    "from keras.layers.core import Dense\n",
    "from keras.optimizers import SGD, RMSprop\n",
    "from keras.utils.np_utils import to_categorical\n",
    "\n",
    "from datetime import datetime\n",
    "from matplotlib import pyplot as plt\n",
    "\n",
    "%matplotlib inline"
   ]
  },
  {
   "cell_type": "code",
   "execution_count": 1,
   "metadata": {
    "collapsed": true
   },
   "outputs": [],
   "source": [
    "PROJECT_DIR  = '/home/ubuntu/Extracting-food-preferences'\n",
    "PICTURES_DIR = '/home/ubuntu/Extracting-food-preferences/classification_with_pics'"
   ]
  },
  {
   "cell_type": "code",
   "execution_count": 2,
   "metadata": {
    "collapsed": true
   },
   "outputs": [],
   "source": [
    "PROJECT_DIR  = 'C:\\\\Users\\\\Natalia\\\\Documents\\\\GitHub\\\\Extracting-food-preferences'\n",
    "PICTURES_DIR = 'C:\\\\Users\\\\Natalia\\\\Documents\\\\GitHub\\\\Extracting-food-preferences\\\\classification_with_pics'"
   ]
  },
  {
   "cell_type": "code",
   "execution_count": 3,
   "metadata": {
    "collapsed": false
   },
   "outputs": [
    {
     "name": "stdout",
     "output_type": "stream",
     "text": [
      "C:\\Users\\Natalia\\Documents\\GitHub\\Extracting-food-preferences\n"
     ]
    }
   ],
   "source": [
    "%cd $PROJECT_DIR"
   ]
  },
  {
   "cell_type": "code",
   "execution_count": 6,
   "metadata": {
    "collapsed": false
   },
   "outputs": [
    {
     "name": "stdout",
     "output_type": "stream",
     "text": [
      "C:\\Users\\Natalia\\Documents\\GitHub\\Extracting-food-preferences\\classification_with_pics\n"
     ]
    }
   ],
   "source": [
    "# on remote Ubuntu machine (aws)\n",
    "\n",
    "%cd $PICTURES_DIR\n",
    "\n",
    "path = PICTURES_DIR #+ '/sample'\n",
    "results_path=path + '/results/'\n",
    "train_path=path + '/train/'\n",
    "valid_path=path + '/valid/'\n",
    "\n",
    "model_path = path + '/models/'\n",
    "if not os.path.exists(model_path): os.mkdir(model_path)"
   ]
  },
  {
   "cell_type": "code",
   "execution_count": 7,
   "metadata": {
    "collapsed": false
   },
   "outputs": [
    {
     "name": "stdout",
     "output_type": "stream",
     "text": [
      "C:\\Users\\Natalia\\Documents\\GitHub\\Extracting-food-preferences\\classification_with_pics\n"
     ]
    }
   ],
   "source": [
    "# on local home computer\n",
    "\n",
    "%cd $PICTURES_DIR\n",
    "\n",
    "path = PICTURES_DIR + '\\\\sample\\\\'\n",
    "results_path=path + '\\\\results\\\\'\n",
    "train_path=path + '\\\\train\\\\'\n",
    "valid_path=path + '\\\\valid\\\\'\n",
    "\n",
    "model_path = path + 'models/'\n",
    "if not os.path.exists(model_path): os.mkdir(model_path)"
   ]
  },
  {
   "cell_type": "code",
   "execution_count": 8,
   "metadata": {
    "collapsed": true
   },
   "outputs": [],
   "source": [
    "#Set constants\n",
    "batch_size=25\n",
    "no_of_epochs=1"
   ]
  },
  {
   "cell_type": "code",
   "execution_count": 13,
   "metadata": {
    "collapsed": false
   },
   "outputs": [
    {
     "name": "stdout",
     "output_type": "stream",
     "text": [
      "Found 50 images belonging to 2 classes.\n",
      "Found 200 images belonging to 2 classes.\n"
     ]
    }
   ],
   "source": [
    "# Use batch size of 1 since we're just doing preprocessing on the CPU\n",
    "generator = image.ImageDataGenerator()\n",
    "val_batches = generator.flow_from_directory(valid_path, \n",
    "                                  target_size=(224,224), \n",
    "                                  class_mode='categorical',\n",
    "                                  batch_size=batch_size, \n",
    "                                  shuffle=False)\n",
    "batches     = generator.flow_from_directory(train_path, \n",
    "                                  target_size=(224,224), \n",
    "                                  class_mode='categorical',\n",
    "                                  batch_size=batch_size, \n",
    "                                  shuffle=False)"
   ]
  },
  {
   "cell_type": "code",
   "execution_count": 19,
   "metadata": {
    "collapsed": true
   },
   "outputs": [],
   "source": [
    "val_labels  = to_categorical(val_batches.classes)\n",
    "trn_labels  = to_categorical(batches.classes)"
   ]
  },
  {
   "cell_type": "code",
   "execution_count": 23,
   "metadata": {
    "collapsed": false
   },
   "outputs": [],
   "source": [
    "vgg = VGG16(weights='imagenet')"
   ]
  },
  {
   "cell_type": "code",
   "execution_count": 29,
   "metadata": {
    "collapsed": false
   },
   "outputs": [
    {
     "name": "stdout",
     "output_type": "stream",
     "text": [
      "Time to run the script on GPU is 0:01:56.660469\n"
     ]
    }
   ],
   "source": [
    "start = datetime.now()\n",
    "\n",
    "trn_features = vgg.predict_generator(batches, batches.nb_sample)\n",
    "val_features = vgg.predict_generator(val_batches, val_batches.nb_sample)\n",
    "\n",
    "end = datetime.now()\n",
    "total = end - start\n",
    "print('Time to run the script on GPU is {}'.format(total))"
   ]
  },
  {
   "cell_type": "code",
   "execution_count": 36,
   "metadata": {
    "collapsed": false
   },
   "outputs": [],
   "source": [
    "# linear model on top of generated features\n",
    "lm = Sequential([ Dense(2, activation='softmax', input_shape=(1000,)) ])\n",
    "lm.compile(optimizer=RMSprop(lr=0.0001), loss='categorical_crossentropy', metrics=['accuracy'])"
   ]
  },
  {
   "cell_type": "code",
   "execution_count": 37,
   "metadata": {
    "collapsed": true
   },
   "outputs": [],
   "source": [
    "batch_size=5"
   ]
  },
  {
   "cell_type": "code",
   "execution_count": 38,
   "metadata": {
    "collapsed": false,
    "scrolled": true
   },
   "outputs": [
    {
     "name": "stdout",
     "output_type": "stream",
     "text": [
      "Train on 200 samples, validate on 50 samples\n",
      "Epoch 1/5\n",
      "200/200 [==============================] - 0s - loss: 0.6947 - acc: 0.5250 - val_loss: 0.6908 - val_acc: 0.6000\n",
      "Epoch 2/5\n",
      "200/200 [==============================] - 0s - loss: 0.6945 - acc: 0.5350 - val_loss: 0.6908 - val_acc: 0.6200\n",
      "Epoch 3/5\n",
      "200/200 [==============================] - 0s - loss: 0.6943 - acc: 0.5400 - val_loss: 0.6909 - val_acc: 0.6000\n",
      "Epoch 4/5\n",
      "200/200 [==============================] - 0s - loss: 0.6942 - acc: 0.5400 - val_loss: 0.6909 - val_acc: 0.6000\n",
      "Epoch 5/5\n",
      "200/200 [==============================] - 0s - loss: 0.6940 - acc: 0.5400 - val_loss: 0.6909 - val_acc: 0.6000\n"
     ]
    }
   ],
   "source": [
    "history = lm.fit(trn_features, trn_labels, nb_epoch=5, batch_size=batch_size, \n",
    "       validation_data=(val_features, val_labels))"
   ]
  },
  {
   "cell_type": "code",
   "execution_count": 39,
   "metadata": {
    "collapsed": false
   },
   "outputs": [
    {
     "name": "stdout",
     "output_type": "stream",
     "text": [
      "____________________________________________________________________________________________________\n",
      "Layer (type)                     Output Shape          Param #     Connected to                     \n",
      "====================================================================================================\n",
      "dense_1 (Dense)                  (None, 2)             2002        dense_input_1[0][0]              \n",
      "====================================================================================================\n",
      "Total params: 2,002\n",
      "Trainable params: 2,002\n",
      "Non-trainable params: 0\n",
      "____________________________________________________________________________________________________\n"
     ]
    }
   ],
   "source": [
    "lm.summary()"
   ]
  },
  {
   "cell_type": "code",
   "execution_count": 46,
   "metadata": {
    "collapsed": false
   },
   "outputs": [
    {
     "data": {
      "image/png": "[encoded data removed]",
      "text/plain": [
       "<matplotlib.figure.Figure at 0x1a7862e5a58>"
      ]
     },
     "metadata": {},
     "output_type": "display_data"
    },
    {
     "data": {
      "image/png": "[encoded data removed]",
      "text/plain": [
       "<matplotlib.figure.Figure at 0x1a7862e5cf8>"
      ]
     },
     "metadata": {},
     "output_type": "display_data"
    }
   ],
   "source": [
    "# history for accuracy\n",
    "plt.plot(history.history['acc'])\n",
    "plt.plot(history.history['val_acc'])\n",
    "plt.title('model accuracy')\n",
    "plt.ylabel('accuracy')\n",
    "plt.xlabel('epoch')\n",
    "plt.legend(['train', 'test'], loc='upper left')\n",
    "plt.show()\n",
    "\n",
    "# history for loss\n",
    "plt.plot(history.history['loss'])\n",
    "plt.plot(history.history['val_loss'])\n",
    "plt.title('model loss')\n",
    "plt.ylabel('loss')\n",
    "plt.xlabel('epoch')\n",
    "plt.legend(['train', 'test'], loc='upper left')\n",
    "plt.show()"
   ]
  },
  {
   "cell_type": "code",
   "execution_count": null,
   "metadata": {
    "collapsed": true
   },
   "outputs": [],
   "source": []
  }
 ],
 "metadata": {
  "kernelspec": {
   "display_name": "Python 3",
   "language": "python",
   "name": "python3"
  },
  "language_info": {
   "codemirror_mode": {
    "name": "ipython",
    "version": 3
   },
   "file_extension": ".py",
   "mimetype": "text/x-python",
   "name": "python",
   "nbconvert_exporter": "python",
   "pygments_lexer": "ipython3",
   "version": "3.5.3"
  }
 },
 "nbformat": 4,
 "nbformat_minor": 1
}
